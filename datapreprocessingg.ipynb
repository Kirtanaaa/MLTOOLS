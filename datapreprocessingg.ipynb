{
  "nbformat": 4,
  "nbformat_minor": 0,
  "metadata": {
    "colab": {
      "provenance": [],
      "include_colab_link": true
    },
    "kernelspec": {
      "name": "python3",
      "display_name": "Python 3"
    }
  },
  "cells": [
    {
      "cell_type": "markdown",
      "metadata": {
        "id": "view-in-github",
        "colab_type": "text"
      },
      "source": [
        "<a href=\"https://colab.research.google.com/github/Kirtanaaa/MLTOOLS/blob/main/datapreprocessingg.ipynb\" target=\"_parent\"><img src=\"https://colab.research.google.com/assets/colab-badge.svg\" alt=\"Open In Colab\"/></a>"
      ]
    },
    {
      "cell_type": "markdown",
      "metadata": {
        "id": "iIDXUkMElkDd"
      },
      "source": [
        "# Data Preprocessing"
      ]
    },
    {
      "cell_type": "markdown",
      "metadata": {
        "id": "Hj40LjUilpix"
      },
      "source": [
        "## Importing the libraries"
      ]
    },
    {
      "cell_type": "code",
      "source": [
        "import numpy as np #arrays\n",
        "import matplotlib.pyplot as plt #visualization\n",
        "import pandas as pd #tables"
      ],
      "metadata": {
        "id": "812RhTRZug9D"
      },
      "execution_count": 3,
      "outputs": []
    },
    {
      "cell_type": "markdown",
      "metadata": {
        "id": "zApSnwUkl9eD"
      },
      "source": [
        "## Importing Dataset"
      ]
    },
    {
      "cell_type": "code",
      "source": [
        "ds=pd.read_csv(\"covido.csv\")\n",
        "x=ds.iloc[:,:-1].values\n",
        "y=ds.iloc[:,-1].values"
      ],
      "metadata": {
        "id": "riYssqSJu9tl"
      },
      "execution_count": 4,
      "outputs": []
    },
    {
      "cell_type": "code",
      "source": [
        "print(x)"
      ],
      "metadata": {
        "id": "cvEvzrZrxQAH"
      },
      "execution_count": null,
      "outputs": []
    },
    {
      "cell_type": "code",
      "source": [
        "print(y)"
      ],
      "metadata": {
        "colab": {
          "base_uri": "https://localhost:8080/"
        },
        "id": "ghRWIzTLxSIp",
        "outputId": "2e75d4ab-aa20-441f-ba6e-46fca7ac02fa"
      },
      "execution_count": 6,
      "outputs": [
        {
          "output_type": "stream",
          "name": "stdout",
          "text": [
            "['No' 'No' 'No' 'No' 'No' 'No' 'No' 'No' 'Yes' 'No' 'No' 'No' 'No' 'No'\n",
            " 'No' 'No' 'No' 'No' 'No' 'No' 'Yes' 'No' 'No' 'No' 'No' 'No' 'No' 'No'\n",
            " 'No' 'No' 'No' 'Yes' 'No' 'No' 'No' 'No' 'No' 'Yes' 'Yes' 'No' 'Yes'\n",
            " 'Yes' 'Yes' 'Yes' 'Yes' 'Yes' 'Yes' 'Yes' 'Yes' 'Yes' 'Yes' 'Yes' 'Yes'\n",
            " 'No' 'Yes' 'Yes' 'Yes' 'Yes' 'Yes' 'Yes' 'No' 'Yes' 'Yes' 'Yes' 'Yes'\n",
            " 'Yes' 'No' 'Yes' 'Yes' 'Yes']\n"
          ]
        }
      ]
    },
    {
      "cell_type": "markdown",
      "metadata": {
        "id": "XaG0s7WjmgPU"
      },
      "source": [
        "\n",
        "\n",
        "\n",
        "## Handling Missing Data"
      ]
    },
    {
      "cell_type": "code",
      "source": [
        "from sklearn.impute import SimpleImputer\n",
        "imputer = SimpleImputer(missing_values=np.nan, strategy = 'mean')\n",
        "\n",
        "imputer.fit(x[:,0:5:4])\n",
        "x[:,0:5:4] = imputer.transform(x[:,0:5:4])"
      ],
      "metadata": {
        "id": "aoGp38AzFKea"
      },
      "execution_count": 7,
      "outputs": []
    },
    {
      "cell_type": "code",
      "source": [
        "print(x)"
      ],
      "metadata": {
        "id": "dq64OG2cc3Af"
      },
      "execution_count": null,
      "outputs": []
    },
    {
      "cell_type": "markdown",
      "metadata": {
        "id": "o0syRbsSmkoe"
      },
      "source": [
        "## Encoding Categorical Data"
      ]
    },
    {
      "cell_type": "markdown",
      "metadata": {
        "id": "alHfpomamsVr"
      },
      "source": [
        "### Encoding independent variables"
      ]
    },
    {
      "cell_type": "code",
      "source": [
        "from sklearn.compose import ColumnTransformer\n",
        "from sklearn.preprocessing import OneHotEncoder"
      ],
      "metadata": {
        "id": "U36PqCOXoyDx"
      },
      "execution_count": 9,
      "outputs": []
    },
    {
      "cell_type": "code",
      "source": [
        "ct = ColumnTransformer(transformers=[('encoder',OneHotEncoder(),[1])], remainder='passthrough')\n",
        "x = np.array(ct.fit_transform(x))"
      ],
      "metadata": {
        "id": "e6Rr0k6MqRmC"
      },
      "execution_count": 10,
      "outputs": []
    },
    {
      "cell_type": "code",
      "source": [
        "print(x)"
      ],
      "metadata": {
        "id": "P9bVLlaDtf0L"
      },
      "execution_count": null,
      "outputs": []
    },
    {
      "cell_type": "markdown",
      "metadata": {
        "id": "VEJCi9Fgmz-n"
      },
      "source": [
        "### Encoding dependent variables"
      ]
    },
    {
      "cell_type": "code",
      "source": [
        "from sklearn.preprocessing import LabelEncoder\n",
        "le = LabelEncoder()\n",
        "y=le.fit_transform(y)"
      ],
      "metadata": {
        "id": "2M4pIYYEShqC"
      },
      "execution_count": 12,
      "outputs": []
    },
    {
      "cell_type": "code",
      "source": [
        "print(y)"
      ],
      "metadata": {
        "colab": {
          "base_uri": "https://localhost:8080/"
        },
        "id": "OnVBE5xuTRIF",
        "outputId": "754f7b36-8f0b-4813-ab94-d9c0f1cf215c"
      },
      "execution_count": 13,
      "outputs": [
        {
          "output_type": "stream",
          "name": "stdout",
          "text": [
            "[0 0 0 0 0 0 0 0 1 0 0 0 0 0 0 0 0 0 0 0 1 0 0 0 0 0 0 0 0 0 0 1 0 0 0 0 0\n",
            " 1 1 0 1 1 1 1 1 1 1 1 1 1 1 1 1 0 1 1 1 1 1 1 0 1 1 1 1 1 0 1 1 1]\n"
          ]
        }
      ]
    },
    {
      "cell_type": "markdown",
      "metadata": {
        "id": "Bfz9vcDsm7r6"
      },
      "source": [
        "## Splitting data into Test set & Training Set\n"
      ]
    },
    {
      "cell_type": "code",
      "source": [
        "from sklearn.model_selection import train_test_split\n",
        "x_train,x_test,y_train,y_test=train_test_split(x,y,test_size=0.2, random_state=42)"
      ],
      "metadata": {
        "id": "HTH0rKRZWpsx"
      },
      "execution_count": 14,
      "outputs": []
    },
    {
      "cell_type": "code",
      "source": [
        "print(x_train)"
      ],
      "metadata": {
        "colab": {
          "base_uri": "https://localhost:8080/"
        },
        "id": "OL1FhC_KXpMp",
        "outputId": "ceda6f92-7405-4beb-8ea5-2cab7666b5e2"
      },
      "execution_count": 23,
      "outputs": [
        {
          "output_type": "stream",
          "name": "stdout",
          "text": [
            "[[1.0 0.0 0.0 86.0 'yes' 'yes' -0.9941858494300261]\n",
            " [0.0 1.0 0.0 35.0 'no' 'yes' 0.9574354145081887]\n",
            " [1.0 0.0 0.0 75.0 'no' 'yes' -0.9012515035282064]\n",
            " [1.0 0.0 0.0 42.0 'no' 'no' 0.9574354145081887]\n",
            " [1.0 0.0 0.0 74.0 'yes' 'yes' -0.6224484658227472]\n",
            " [1.0 0.0 0.0 62.0 'yes' 'yes' -1.2729888871354853]\n",
            " [0.0 1.0 0.0 24.0 'no' 'no' 0.9574354145081887]\n",
            " [0.0 1.0 0.0 48.0 'no' 'yes' 1.0503697604100084]\n",
            " [1.0 0.0 0.0 58.0 'no' 'no' -1.087120195331846]\n",
            " [0.0 1.0 0.0 45.130434782608695 'yes' 'no' 0.7715667227045492]\n",
            " [0.0 1.0 0.0 15.0 'no' 'no' 0.9574354145081887]\n",
            " [0.0 0.0 1.0 70.0 'no' 'yes' 0.5856980309009097]\n",
            " [1.0 0.0 0.0 52.0 'yes' 'yes' -0.15777673631364833]\n",
            " [1.0 0.0 0.0 60.0 'yes' 'yes' -1.2729888871354853]\n",
            " [1.0 0.0 0.0 54.0 'yes' 'yes' -1.087120195331846]\n",
            " [0.0 0.0 1.0 29.0 'no' 'no' 1.0503697604100084]\n",
            " [1.0 0.0 0.0 78.0 'yes' 'yes' -0.9941858494300261]\n",
            " [1.0 0.0 0.0 36.0 'yes' 'no' 0.7715667227045492]\n",
            " [0.0 1.0 0.0 30.0 'yes' 'no' 0.3998293390972702]\n",
            " [1.0 0.0 0.0 50.0 'yes' 'yes' -0.4365797740191076]\n",
            " [0.0 0.0 1.0 18.0 'no' 'no' 1.0503697604100084]\n",
            " [1.0 0.0 0.0 69.0 'no' 'yes' -2.6670040756627817]\n",
            " [0.0 0.0 1.0 10.0 'no' 'no' 1.4221071440172874]\n",
            " [1.0 0.0 0.0 26.0 'no' 'no' 1.143304106311828]\n",
            " [0.0 1.0 0.0 18.0 'no' 'no' -1.458857578939125]\n",
            " [1.0 0.0 0.0 62.0 'yes' 'yes' -1.1800545412336656]\n",
            " [0.0 1.0 0.0 13.0 'no' 'no' 1.0503697604100084]\n",
            " [1.0 0.0 0.0 40.0 'no' 'no' 0.9574354145081887]\n",
            " [1.0 0.0 0.0 84.0 'yes' 'yes' -0.6224484658227472]\n",
            " [1.0 0.0 0.0 76.0 'yes' 'yes' -0.15777673631364833]\n",
            " [1.0 0.0 0.0 81.0 'yes' 'yes' -0.6224484658227472]\n",
            " [0.0 1.0 0.0 25.0 'no' 'no' 1.0503697604100084]\n",
            " [0.0 1.0 0.0 32.0 'no' 'yes' 0.21396064729363068]\n",
            " [1.0 0.0 0.0 56.0 'yes' 'yes' -0.4365797740191076]\n",
            " [0.0 1.0 0.0 35.0 'no' 'no' 0.6786323768027295]\n",
            " [1.0 0.0 0.0 63.0 'yes' 'yes' -1.458857578939125]\n",
            " [0.0 0.0 1.0 28.0 'no' 'no' 0.6786323768027295]\n",
            " [1.0 0.0 0.0 56.0 'yes' 'no' -0.5295141199209273]\n",
            " [1.0 0.0 0.0 90.0 'yes' 'yes' -1.3659232330373052]\n",
            " [0.0 0.0 1.0 17.0 'no' 'no' 1.0503697604100084]\n",
            " [0.0 1.0 0.0 40.0 'no' 'yes' 0.7715667227045492]\n",
            " [0.0 1.0 0.0 61.0 'no' 'yes' 0.7715667227045492]\n",
            " [1.0 0.0 0.0 82.0 'yes' 'yes' -0.8083171576263867]\n",
            " [0.0 1.0 0.0 49.0 'no' 'no' -0.15777673631364833]\n",
            " [0.0 1.0 0.0 32.0 'no' 'no' 0.6786323768027295]\n",
            " [1.0 0.0 0.0 59.0 'no' 'yes' -1.1800545412336656]\n",
            " [1.0 0.0 0.0 86.0 'no' 'yes' -0.5295141199209273]\n",
            " [0.0 0.0 1.0 12.0 'no' 'no' 1.4221071440172874]\n",
            " [1.0 0.0 0.0 61.0 'yes' 'yes' -0.5295141199209273]\n",
            " [0.0 0.0 1.0 19.0 'no' 'no' 0.6786323768027295]\n",
            " [0.0 0.0 1.0 15.0 'no' 'no' 1.143304106311828]\n",
            " [0.0 0.0 1.0 26.0 'no' 'no' 0.034826328381427]\n",
            " [0.0 1.0 0.0 30.0 'no' 'no' -1.830594962546404]\n",
            " [1.0 0.0 0.0 80.0 'no' 'yes' 0.9574354145081887]\n",
            " [0.0 0.0 1.0 20.0 'no' 'no' 0.9574354145081887]\n",
            " [1.0 0.0 0.0 64.0 'yes' 'yes' -0.8083171576263867]]\n"
          ]
        }
      ]
    },
    {
      "cell_type": "code",
      "source": [
        "print(x_test)"
      ],
      "metadata": {
        "colab": {
          "base_uri": "https://localhost:8080/"
        },
        "id": "4ZNkKb10Xsj1",
        "outputId": "db4a7dd4-84de-464b-e393-ddc4f6c3e26d"
      },
      "execution_count": 16,
      "outputs": [
        {
          "output_type": "stream",
          "name": "stdout",
          "text": [
            "[[0.0 0.0 1.0 25.0 'no' 'yes' 86.0]\n",
            " [0.0 0.0 1.0 10.0 'no' 'no' 97.0]\n",
            " [1.0 0.0 0.0 68.0 'yes' 'no' 67.0]\n",
            " [0.0 1.0 0.0 13.0 'no' 'no' 94.0]\n",
            " [1.0 0.0 0.0 59.0 'yes' 'no' 68.0]\n",
            " [0.0 0.0 1.0 28.0 'no' 'no' 99.0]\n",
            " [0.0 0.0 1.0 20.0 'no' 'no' 93.0]\n",
            " [1.0 0.0 0.0 46.0 'yes' 'no' 91.0]\n",
            " [1.0 0.0 0.0 53.0 'yes' 'no' 55.0]\n",
            " [0.0 0.0 1.0 16.0 'no' 'no' 92.0]\n",
            " [1.0 0.0 0.0 38.0 'no' 'no' 75.0]\n",
            " [0.0 0.0 1.0 19.0 'no' 'no' 92.0]\n",
            " [1.0 0.0 0.0 94.0 'yes' 'yes' 64.0]\n",
            " [0.0 1.0 0.0 12.0 'no' 'no' 97.0]]\n"
          ]
        }
      ]
    },
    {
      "cell_type": "code",
      "source": [
        "print(y_train)"
      ],
      "metadata": {
        "colab": {
          "base_uri": "https://localhost:8080/"
        },
        "id": "eXHfpFz3XuJj",
        "outputId": "c8cff8a3-15d1-4546-bacb-e91754ec828b"
      },
      "execution_count": 17,
      "outputs": [
        {
          "output_type": "stream",
          "name": "stdout",
          "text": [
            "[1 0 1 0 1 1 0 0 1 0 0 0 1 1 1 0 1 0 0 1 0 1 0 0 1 1 0 0 1 1 1 0 0 1 0 1 0\n",
            " 1 1 0 0 0 1 1 0 1 1 0 1 0 0 0 1 0 0 1]\n"
          ]
        }
      ]
    },
    {
      "cell_type": "code",
      "source": [
        "print(y_test)"
      ],
      "metadata": {
        "colab": {
          "base_uri": "https://localhost:8080/"
        },
        "id": "-1RPdSgaXxaW",
        "outputId": "98a7c6c5-1d41-4b9f-da24-ea5098a0c48a"
      },
      "execution_count": 18,
      "outputs": [
        {
          "output_type": "stream",
          "name": "stdout",
          "text": [
            "[0 0 1 0 1 0 0 0 1 0 1 0 1 0]\n"
          ]
        }
      ]
    },
    {
      "cell_type": "markdown",
      "metadata": {
        "id": "a5uoHf8MsQG0"
      },
      "source": [
        "## Feature Scaling"
      ]
    },
    {
      "cell_type": "code",
      "source": [
        "from sklearn.preprocessing import StandardScaler\n",
        "sc = StandardScaler()\n",
        "x_train[:,6:] = sc.fit_transform(x_train[:,6:])\n",
        "x_test[:,6:] = sc.fit_transform(x_test[:,6:]) "
      ],
      "metadata": {
        "id": "t67DE3o8byox"
      },
      "execution_count": 20,
      "outputs": []
    },
    {
      "cell_type": "code",
      "source": [
        "print(x_train)"
      ],
      "metadata": {
        "colab": {
          "base_uri": "https://localhost:8080/"
        },
        "id": "IQQeDFnNdLXT",
        "outputId": "2567575e-fc03-4b84-c3ab-0fe7f805c784"
      },
      "execution_count": 21,
      "outputs": [
        {
          "output_type": "stream",
          "name": "stdout",
          "text": [
            "[[1.0 0.0 0.0 86.0 'yes' 'yes' -0.9941858494300261]\n",
            " [0.0 1.0 0.0 35.0 'no' 'yes' 0.9574354145081887]\n",
            " [1.0 0.0 0.0 75.0 'no' 'yes' -0.9012515035282064]\n",
            " [1.0 0.0 0.0 42.0 'no' 'no' 0.9574354145081887]\n",
            " [1.0 0.0 0.0 74.0 'yes' 'yes' -0.6224484658227472]\n",
            " [1.0 0.0 0.0 62.0 'yes' 'yes' -1.2729888871354853]\n",
            " [0.0 1.0 0.0 24.0 'no' 'no' 0.9574354145081887]\n",
            " [0.0 1.0 0.0 48.0 'no' 'yes' 1.0503697604100084]\n",
            " [1.0 0.0 0.0 58.0 'no' 'no' -1.087120195331846]\n",
            " [0.0 1.0 0.0 45.130434782608695 'yes' 'no' 0.7715667227045492]\n",
            " [0.0 1.0 0.0 15.0 'no' 'no' 0.9574354145081887]\n",
            " [0.0 0.0 1.0 70.0 'no' 'yes' 0.5856980309009097]\n",
            " [1.0 0.0 0.0 52.0 'yes' 'yes' -0.15777673631364833]\n",
            " [1.0 0.0 0.0 60.0 'yes' 'yes' -1.2729888871354853]\n",
            " [1.0 0.0 0.0 54.0 'yes' 'yes' -1.087120195331846]\n",
            " [0.0 0.0 1.0 29.0 'no' 'no' 1.0503697604100084]\n",
            " [1.0 0.0 0.0 78.0 'yes' 'yes' -0.9941858494300261]\n",
            " [1.0 0.0 0.0 36.0 'yes' 'no' 0.7715667227045492]\n",
            " [0.0 1.0 0.0 30.0 'yes' 'no' 0.3998293390972702]\n",
            " [1.0 0.0 0.0 50.0 'yes' 'yes' -0.4365797740191076]\n",
            " [0.0 0.0 1.0 18.0 'no' 'no' 1.0503697604100084]\n",
            " [1.0 0.0 0.0 69.0 'no' 'yes' -2.6670040756627817]\n",
            " [0.0 0.0 1.0 10.0 'no' 'no' 1.4221071440172874]\n",
            " [1.0 0.0 0.0 26.0 'no' 'no' 1.143304106311828]\n",
            " [0.0 1.0 0.0 18.0 'no' 'no' -1.458857578939125]\n",
            " [1.0 0.0 0.0 62.0 'yes' 'yes' -1.1800545412336656]\n",
            " [0.0 1.0 0.0 13.0 'no' 'no' 1.0503697604100084]\n",
            " [1.0 0.0 0.0 40.0 'no' 'no' 0.9574354145081887]\n",
            " [1.0 0.0 0.0 84.0 'yes' 'yes' -0.6224484658227472]\n",
            " [1.0 0.0 0.0 76.0 'yes' 'yes' -0.15777673631364833]\n",
            " [1.0 0.0 0.0 81.0 'yes' 'yes' -0.6224484658227472]\n",
            " [0.0 1.0 0.0 25.0 'no' 'no' 1.0503697604100084]\n",
            " [0.0 1.0 0.0 32.0 'no' 'yes' 0.21396064729363068]\n",
            " [1.0 0.0 0.0 56.0 'yes' 'yes' -0.4365797740191076]\n",
            " [0.0 1.0 0.0 35.0 'no' 'no' 0.6786323768027295]\n",
            " [1.0 0.0 0.0 63.0 'yes' 'yes' -1.458857578939125]\n",
            " [0.0 0.0 1.0 28.0 'no' 'no' 0.6786323768027295]\n",
            " [1.0 0.0 0.0 56.0 'yes' 'no' -0.5295141199209273]\n",
            " [1.0 0.0 0.0 90.0 'yes' 'yes' -1.3659232330373052]\n",
            " [0.0 0.0 1.0 17.0 'no' 'no' 1.0503697604100084]\n",
            " [0.0 1.0 0.0 40.0 'no' 'yes' 0.7715667227045492]\n",
            " [0.0 1.0 0.0 61.0 'no' 'yes' 0.7715667227045492]\n",
            " [1.0 0.0 0.0 82.0 'yes' 'yes' -0.8083171576263867]\n",
            " [0.0 1.0 0.0 49.0 'no' 'no' -0.15777673631364833]\n",
            " [0.0 1.0 0.0 32.0 'no' 'no' 0.6786323768027295]\n",
            " [1.0 0.0 0.0 59.0 'no' 'yes' -1.1800545412336656]\n",
            " [1.0 0.0 0.0 86.0 'no' 'yes' -0.5295141199209273]\n",
            " [0.0 0.0 1.0 12.0 'no' 'no' 1.4221071440172874]\n",
            " [1.0 0.0 0.0 61.0 'yes' 'yes' -0.5295141199209273]\n",
            " [0.0 0.0 1.0 19.0 'no' 'no' 0.6786323768027295]\n",
            " [0.0 0.0 1.0 15.0 'no' 'no' 1.143304106311828]\n",
            " [0.0 0.0 1.0 26.0 'no' 'no' 0.034826328381427]\n",
            " [0.0 1.0 0.0 30.0 'no' 'no' -1.830594962546404]\n",
            " [1.0 0.0 0.0 80.0 'no' 'yes' 0.9574354145081887]\n",
            " [0.0 0.0 1.0 20.0 'no' 'no' 0.9574354145081887]\n",
            " [1.0 0.0 0.0 64.0 'yes' 'yes' -0.8083171576263867]]\n"
          ]
        }
      ]
    },
    {
      "cell_type": "code",
      "source": [
        "print(x_test)"
      ],
      "metadata": {
        "colab": {
          "base_uri": "https://localhost:8080/"
        },
        "id": "-_OzRPdwdQFG",
        "outputId": "f693e690-47c7-4cf0-ccd2-e6d1c7af0430"
      },
      "execution_count": 22,
      "outputs": [
        {
          "output_type": "stream",
          "name": "stdout",
          "text": [
            "[[0.0 0.0 1.0 25.0 'no' 'yes' 0.17205102992570073]\n",
            " [0.0 0.0 1.0 10.0 'no' 'no' 0.9513409890009328]\n",
            " [1.0 0.0 0.0 68.0 'yes' 'no' -1.1739952630224273]\n",
            " [0.0 1.0 0.0 13.0 'no' 'no' 0.7388073637985968]\n",
            " [1.0 0.0 0.0 59.0 'yes' 'no' -1.1031507212883154]\n",
            " [0.0 0.0 1.0 28.0 'no' 'no' 1.0930300724691568]\n",
            " [0.0 0.0 1.0 20.0 'no' 'no' 0.6679628220644848]\n",
            " [1.0 0.0 0.0 46.0 'yes' 'no' 0.5262737385962607]\n",
            " [1.0 0.0 0.0 53.0 'yes' 'no' -2.0241297638317715]\n",
            " [0.0 0.0 1.0 16.0 'no' 'no' 0.5971182803303727]\n",
            " [1.0 0.0 0.0 38.0 'no' 'no' -0.6072389291495313]\n",
            " [0.0 0.0 1.0 19.0 'no' 'no' 0.5971182803303727]\n",
            " [1.0 0.0 0.0 94.0 'yes' 'yes' -1.3865288882247633]\n",
            " [0.0 1.0 0.0 12.0 'no' 'no' 0.9513409890009328]]\n"
          ]
        }
      ]
    },
    {
      "cell_type": "code",
      "source": [
        "x_train[:,3:4]=sc.fit_transform(x_train[:,3:4])"
      ],
      "metadata": {
        "id": "pnQKDvfkdSvl"
      },
      "execution_count": 29,
      "outputs": []
    },
    {
      "cell_type": "code",
      "source": [
        "x_test[:,3:4]=sc.fit_transform(x_test[:,3:4])"
      ],
      "metadata": {
        "id": "Y1dx8-UXfg25"
      },
      "execution_count": 31,
      "outputs": []
    },
    {
      "cell_type": "code",
      "source": [
        "print(x_train)"
      ],
      "metadata": {
        "colab": {
          "base_uri": "https://localhost:8080/"
        },
        "id": "ebG4RtAOfZWm",
        "outputId": "00361b7d-0a1a-476f-82cb-7313f9955281"
      },
      "execution_count": 30,
      "outputs": [
        {
          "output_type": "stream",
          "name": "stdout",
          "text": [
            "[[1.0 0.0 0.0 1.6605950326521115 'yes' 'yes' -0.9941858494300261]\n",
            " [0.0 1.0 0.0 -0.5372483818439072 'no' 'yes' 0.9574354145081887]\n",
            " [1.0 0.0 0.0 1.1865503746235586 'no' 'yes' -0.9012515035282064]\n",
            " [1.0 0.0 0.0 -0.2355835994621007 'no' 'no' 0.9574354145081887]\n",
            " [1.0 0.0 0.0 1.143455405711872 'yes' 'yes' -0.6224484658227472]\n",
            " [1.0 0.0 0.0 0.6263157787716322 'yes' 'yes' -1.2729888871354853]\n",
            " [0.0 1.0 0.0 -1.0112930398724604 'no' 'no' 0.9574354145081887]\n",
            " [0.0 1.0 0.0 0.022986214008019184 'no' 'yes' 1.0503697604100084]\n",
            " [1.0 0.0 0.0 0.45393590312488563 'no' 'no' -1.087120195331846]\n",
            " [0.0 1.0 0.0 -0.1006776098255164 'yes' 'no' 0.7715667227045492]\n",
            " [0.0 1.0 0.0 -1.39914776007764 'no' 'no' 0.9574354145081887]\n",
            " [0.0 0.0 1.0 0.9710755300651254 'no' 'yes' 0.5856980309009097]\n",
            " [1.0 0.0 0.0 0.19536608965476576 'yes' 'yes' -0.15777673631364833]\n",
            " [1.0 0.0 0.0 0.540125840948259 'yes' 'yes' -1.2729888871354853]\n",
            " [1.0 0.0 0.0 0.28155602747813907 'yes' 'yes' -1.087120195331846]\n",
            " [0.0 0.0 1.0 -0.795818195314027 'no' 'no' 1.0503697604100084]\n",
            " [1.0 0.0 0.0 1.3158352813586185 'yes' 'yes' -0.9941858494300261]\n",
            " [1.0 0.0 0.0 -0.49415341293222054 'yes' 'no' 0.7715667227045492]\n",
            " [0.0 1.0 0.0 -0.7527232264023404 'yes' 'no' 0.3998293390972702]\n",
            " [1.0 0.0 0.0 0.10917615183139247 'yes' 'yes' -0.4365797740191076]\n",
            " [0.0 0.0 1.0 -1.2698628533425802 'no' 'no' 1.0503697604100084]\n",
            " [1.0 0.0 0.0 0.9279805611534387 'no' 'yes' -2.6670040756627817]\n",
            " [0.0 0.0 1.0 -1.6146226046360734 'no' 'no' 1.4221071440172874]\n",
            " [1.0 0.0 0.0 -0.925103102049087 'no' 'no' 1.143304106311828]\n",
            " [0.0 1.0 0.0 -1.2698628533425802 'no' 'no' -1.458857578939125]\n",
            " [1.0 0.0 0.0 0.6263157787716322 'yes' 'yes' -1.1800545412336656]\n",
            " [0.0 1.0 0.0 -1.4853376979010133 'no' 'no' 1.0503697604100084]\n",
            " [1.0 0.0 0.0 -0.321773537285474 'no' 'no' 0.9574354145081887]\n",
            " [1.0 0.0 0.0 1.5744050948287382 'yes' 'yes' -0.6224484658227472]\n",
            " [1.0 0.0 0.0 1.2296453435352452 'yes' 'yes' -0.15777673631364833]\n",
            " [1.0 0.0 0.0 1.4451201880936784 'yes' 'yes' -0.6224484658227472]\n",
            " [0.0 1.0 0.0 -0.9681980709607736 'no' 'no' 1.0503697604100084]\n",
            " [0.0 1.0 0.0 -0.6665332885789671 'no' 'yes' 0.21396064729363068]\n",
            " [1.0 0.0 0.0 0.3677459653015123 'yes' 'yes' -0.4365797740191076]\n",
            " [0.0 1.0 0.0 -0.5372483818439072 'no' 'no' 0.6786323768027295]\n",
            " [1.0 0.0 0.0 0.6694107476833189 'yes' 'yes' -1.458857578939125]\n",
            " [0.0 0.0 1.0 -0.8389131642257136 'no' 'no' 0.6786323768027295]\n",
            " [1.0 0.0 0.0 0.3677459653015123 'yes' 'no' -0.5295141199209273]\n",
            " [1.0 0.0 0.0 1.8329749082988582 'yes' 'yes' -1.3659232330373052]\n",
            " [0.0 0.0 1.0 -1.3129578222542668 'no' 'no' 1.0503697604100084]\n",
            " [0.0 1.0 0.0 -0.321773537285474 'no' 'yes' 0.7715667227045492]\n",
            " [0.0 1.0 0.0 0.5832208098599456 'no' 'yes' 0.7715667227045492]\n",
            " [1.0 0.0 0.0 1.488215157005365 'yes' 'yes' -0.8083171576263867]\n",
            " [0.0 1.0 0.0 0.06608118291970584 'no' 'no' -0.15777673631364833]\n",
            " [0.0 1.0 0.0 -0.6665332885789671 'no' 'no' 0.6786323768027295]\n",
            " [1.0 0.0 0.0 0.49703087203657226 'no' 'yes' -1.1800545412336656]\n",
            " [1.0 0.0 0.0 1.6605950326521115 'no' 'yes' -0.5295141199209273]\n",
            " [0.0 0.0 1.0 -1.5284326668127002 'no' 'no' 1.4221071440172874]\n",
            " [1.0 0.0 0.0 0.5832208098599456 'yes' 'yes' -0.5295141199209273]\n",
            " [0.0 0.0 1.0 -1.2267678844308936 'no' 'no' 0.6786323768027295]\n",
            " [0.0 0.0 1.0 -1.39914776007764 'no' 'no' 1.143304106311828]\n",
            " [0.0 0.0 1.0 -0.925103102049087 'no' 'no' 0.034826328381427]\n",
            " [0.0 1.0 0.0 -0.7527232264023404 'no' 'no' -1.830594962546404]\n",
            " [1.0 0.0 0.0 1.4020252191819917 'no' 'yes' 0.9574354145081887]\n",
            " [0.0 0.0 1.0 -1.183672915519207 'no' 'no' 0.9574354145081887]\n",
            " [1.0 0.0 0.0 0.7125057165950055 'yes' 'yes' -0.8083171576263867]]\n"
          ]
        }
      ]
    },
    {
      "cell_type": "code",
      "source": [
        "print(x_test)"
      ],
      "metadata": {
        "colab": {
          "base_uri": "https://localhost:8080/"
        },
        "id": "ohDXEb7ifmaZ",
        "outputId": "3fc2f3fd-44c7-440c-afe1-b1f269c85c8e"
      },
      "execution_count": 32,
      "outputs": [
        {
          "output_type": "stream",
          "name": "stdout",
          "text": [
            "[[0.0 0.0 1.0 -0.4451102407099234 'no' 'yes' 0.17205102992570073]\n",
            " [0.0 0.0 1.0 -1.0641377277899493 'no' 'no' 0.9513409890009328]\n",
            " [1.0 0.0 0.0 1.3294352222528176 'yes' 'no' -1.1739952630224273]\n",
            " [0.0 1.0 0.0 -0.9403322303739441 'no' 'no' 0.7388073637985968]\n",
            " [1.0 0.0 0.0 0.9580187300048021 'yes' 'no' -1.1031507212883154]\n",
            " [0.0 0.0 1.0 -0.32130474329391817 'no' 'no' 1.0930300724691568]\n",
            " [0.0 0.0 1.0 -0.6514527364032653 'no' 'no' 0.6679628220644848]\n",
            " [1.0 0.0 0.0 0.4215282412021129 'yes' 'no' 0.5262737385962607]\n",
            " [1.0 0.0 0.0 0.7104077351727917 'yes' 'no' -2.0241297638317715]\n",
            " [0.0 0.0 1.0 -0.8165267329579389 'no' 'no' 0.5971182803303727]\n",
            " [1.0 0.0 0.0 0.09138024809276578 'no' 'no' -0.6072389291495313]\n",
            " [0.0 0.0 1.0 -0.6927212355419338 'no' 'no' 0.5971182803303727]\n",
            " [1.0 0.0 0.0 2.402416199858196 'yes' 'yes' -1.3865288882247633]\n",
            " [0.0 1.0 0.0 -0.9816007295126125 'no' 'no' 0.9513409890009328]]\n"
          ]
        }
      ]
    }
  ]
}