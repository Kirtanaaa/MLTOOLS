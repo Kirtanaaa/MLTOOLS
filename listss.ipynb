{
  "nbformat": 4,
  "nbformat_minor": 0,
  "metadata": {
    "colab": {
      "provenance": [],
      "authorship_tag": "ABX9TyP4dZHJRT09XqdBLrpU+XrC",
      "include_colab_link": true
    },
    "kernelspec": {
      "name": "python3",
      "display_name": "Python 3"
    },
    "language_info": {
      "name": "python"
    }
  },
  "cells": [
    {
      "cell_type": "markdown",
      "metadata": {
        "id": "view-in-github",
        "colab_type": "text"
      },
      "source": [
        "<a href=\"https://colab.research.google.com/github/Kirtanaaa/MLTOOLS/blob/main/listss.ipynb\" target=\"_parent\"><img src=\"https://colab.research.google.com/assets/colab-badge.svg\" alt=\"Open In Colab\"/></a>"
      ]
    },
    {
      "cell_type": "code",
      "execution_count": null,
      "metadata": {
        "colab": {
          "base_uri": "https://localhost:8080/"
        },
        "id": "HAHyw3u4Opcp",
        "outputId": "99e7daf1-a709-4ddd-ae63-631b258ee3b6"
      },
      "outputs": [
        {
          "output_type": "stream",
          "name": "stdout",
          "text": [
            "['a', 1, 2]\n"
          ]
        }
      ],
      "source": [
        "l=[\"a\",1,2]\n",
        "print(l)"
      ]
    },
    {
      "cell_type": "code",
      "source": [
        "l1=[i for i in range(10)]\n",
        "print(l1)"
      ],
      "metadata": {
        "colab": {
          "base_uri": "https://localhost:8080/"
        },
        "id": "hSf3zgW_RS99",
        "outputId": "4b64b3cf-6242-4b88-bb60-f248f9f22797"
      },
      "execution_count": null,
      "outputs": [
        {
          "output_type": "stream",
          "name": "stdout",
          "text": [
            "[0, 1, 2, 3, 4, 5, 6, 7, 8, 9]\n"
          ]
        }
      ]
    },
    {
      "cell_type": "code",
      "source": [
        "l2=[[1,2,3] for i in range(3)]\n",
        "print(l2)"
      ],
      "metadata": {
        "colab": {
          "base_uri": "https://localhost:8080/"
        },
        "id": "CH506iSCRls1",
        "outputId": "66f30778-0bb6-483e-afbf-e0b0dfad4308"
      },
      "execution_count": null,
      "outputs": [
        {
          "output_type": "stream",
          "name": "stdout",
          "text": [
            "[[1, 2, 3], [1, 2, 3], [1, 2, 3]]\n"
          ]
        }
      ]
    },
    {
      "cell_type": "code",
      "source": [
        "l3=[[j for j in range(5)] for i in range(3)]\n",
        "print(l3)"
      ],
      "metadata": {
        "colab": {
          "base_uri": "https://localhost:8080/"
        },
        "id": "y49_xvcIRr69",
        "outputId": "9ead04a2-1fa8-4aac-b794-3badedef0111"
      },
      "execution_count": null,
      "outputs": [
        {
          "output_type": "stream",
          "name": "stdout",
          "text": [
            "[[0, 1, 2, 3, 4], [0, 1, 2, 3, 4], [0, 1, 2, 3, 4]]\n"
          ]
        }
      ]
    },
    {
      "cell_type": "code",
      "source": [
        "l4=[[3*i+j for j in range(3)] for i in range(3)]\n",
        "print(l4)"
      ],
      "metadata": {
        "colab": {
          "base_uri": "https://localhost:8080/"
        },
        "id": "KWcTJspJR5LA",
        "outputId": "21dff98b-c101-40f1-dd8f-5eab9b1fd3e4"
      },
      "execution_count": null,
      "outputs": [
        {
          "output_type": "stream",
          "name": "stdout",
          "text": [
            "[[0, 1, 2], [3, 4, 5], [6, 7, 8]]\n"
          ]
        }
      ]
    },
    {
      "cell_type": "code",
      "source": [
        "r=int(input(\"rows: \"))\n",
        "c=int(input(\"cols: \"))\n",
        "p=[int(x) for x in input(\"elements: \").split()]\n",
        "a=[]\n",
        "for i in range(c):\n",
        "  a.append([])\n",
        "  for j in range(r):\n",
        "    a[i].append(p[c*j+i])\n",
        "\n",
        "for i in range(len(a)):\n",
        "  if(i%2 != 0):\n",
        "    a[i].reverse()\n",
        "\n",
        "print(\"2d list: \",a)"
      ],
      "metadata": {
        "colab": {
          "base_uri": "https://localhost:8080/"
        },
        "id": "nDIn0SxhVMHA",
        "outputId": "a56997c4-c409-4a26-9038-f653a70530a1"
      },
      "execution_count": null,
      "outputs": [
        {
          "output_type": "stream",
          "name": "stdout",
          "text": [
            "rows: 4\n",
            "cols: 3\n",
            "elements: 1 2 3 4 5 6 7 8 9 10 11 12\n",
            "2d list:  [[1, 4, 7, 10], [11, 8, 5, 2], [3, 6, 9, 12]]\n"
          ]
        }
      ]
    },
    {
      "cell_type": "code",
      "source": [
        "list1 = [[1,2,3],[4,5,6],[7,8,9],[10,11,12]]\n",
        "\n",
        "print(\"array:\", list1)\n",
        "rows = len(list1)\n",
        "cols = len(list1[0])\n",
        "\n",
        "print(rows,cols)\n",
        "\n",
        "for j in range(cols):\n",
        "  if j % 2 == 0:\n",
        "    for i in range(rows):\n",
        "      print(list1[i][j])\n",
        "  else:\n",
        "    i = rows - 1\n",
        "    while(i >= 0):\n",
        "      print(list1[i][j])\n",
        "      i = i - 1"
      ],
      "metadata": {
        "colab": {
          "base_uri": "https://localhost:8080/"
        },
        "id": "5Bcx8qkyh4DU",
        "outputId": "3eb8c101-be87-4179-a615-c9900a0b0248"
      },
      "execution_count": null,
      "outputs": [
        {
          "output_type": "stream",
          "name": "stdout",
          "text": [
            "array: [[1, 2, 3], [4, 5, 6], [7, 8, 9], [10, 11, 12]]\n",
            "4 3\n",
            "1\n",
            "4\n",
            "7\n",
            "10\n",
            "11\n",
            "8\n",
            "5\n",
            "2\n",
            "3\n",
            "6\n",
            "9\n",
            "12\n"
          ]
        }
      ]
    }
  ]
}